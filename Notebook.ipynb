{
 "cells": [
  {
   "cell_type": "markdown",
   "metadata": {},
   "source": [
    "# Practicioners Seminar - Task 2"
   ]
  },
  {
   "cell_type": "markdown",
   "metadata": {},
   "source": [
    "TODO:\n",
    "\n",
    "- Add optimized hedge ratio approach from Tobias"
   ]
  },
  {
   "cell_type": "code",
   "execution_count": 1,
   "metadata": {},
   "outputs": [],
   "source": [
    "import numpy as np\n",
    "import pandas as pd\n",
    "import seaborn as sns\n",
    "import os\n",
    "import matplotlib.pyplot as plt\n",
    "import statsmodels.api as sm\n",
    "from statsmodels.regression.rolling import RollingOLS\n",
    "from statsmodels.formula.api import ols"
   ]
  },
  {
   "cell_type": "markdown",
   "metadata": {},
   "source": [
    "### Load and prepare data"
   ]
  },
  {
   "cell_type": "code",
   "execution_count": null,
   "metadata": {},
   "outputs": [],
   "source": [
    "# Daily Data\n",
    "\n",
    "# Paths\n",
    "currencies = \"Data/FX_CHF_ALL_1971-2020.xlsx\"\n",
    "interest_rates = \"Data/3M_interest_rates.xlsx\"\n",
    "msci_all_local = \"Data/MSCI_ALL_LOCAL.xlsx\"\n",
    "msci_world_total_return_h_chf = \"Data/Msci World hCHF.xlsx\"\n",
    "msci_world_total_return_chf = \"Data/MSCI_World_total_return_chf.xlsx\"\n",
    "\n",
    "# FX\n",
    "df_fx_indirect = pd.read_excel(currencies, header=0, index_col=0, sheet_name=\"Sheet1\")\n",
    "df_fx_direct = 1 / df_fx_indirect\n",
    "df_fx_direct = df_fx_direct.replace([np.inf, -np.inf], np.nan)\n",
    "df_fx_direct.columns = ['USDCHF', 'EURCHF', 'GBPCHF', 'AUDCHF', 'JPYCHF', 'CADCHF']\n",
    "\n",
    "# MSCI\n",
    "df_msci_local = pd.read_excel(msci_all_local, header=3, index_col=0, sheet_name=\"CleanTimeSeries\")\n",
    "df_msci_local = df_msci_local.sort_index()\n",
    "df_msci_world_chf = pd.read_excel(msci_world_total_return_chf, header=18, index_col=0)\n",
    "df_msci_world_chf = df_msci_world_chf['Close'].dropna().sort_index()\n",
    "df_msci_world_h_chf = pd.read_excel(msci_world_total_return_h_chf, header=0, index_col=0)\n",
    "df_msci_world_h_chf = df_msci_world_h_chf.dropna().sort_index()\n",
    "\n",
    "# Interest rates\n",
    "df_r = pd.read_excel(interest_rates, header=1, index_col=0)\n",
    "df_r.columns = ['CHF', 'USD', 'EUR', 'GBP', 'JPY', 'CAD', 'AUD']\n",
    "df_r = df_r/100\n",
    "df_r = df_r[df_r!=0].dropna()\n",
    "\n",
    "# Monthly Data\n",
    "\n",
    "# Paths\n",
    "msci_all_local_m = \"Data/MSCI_ALL_LOCAL_MONTHLY.xlsx\"\n",
    "msci_all_usd_chf_m = \"Data/MSCI_ALL_USD_CHF_MONTHLY.xlsx\"\n",
    "\n",
    "# FX\n",
    "df_fx_direct_m = df_fx_direct.resample('M').last()\n",
    "\n",
    "# MSCI\n",
    "df_msci_local_m = pd.read_excel(msci_all_local_m, header=0, index_col=0).sort_index()\n",
    "df_msci_usd_chf_m = pd.read_excel(msci_all_usd_chf_m, header=0, index_col=0).sort_index()\n",
    "df_msci_world_chf_m = df_msci_world_chf.resample('M').last()\n",
    "df_msci_world_h_chf_m = df_msci_world_h_chf.resample('M').last()\n",
    "\n",
    "# Interest rates\n",
    "df_r_m = df_r.resample('M').last()\n",
    "df_r_m = df_r_m[df_r_m!=0].dropna()\n"
   ]
  },
  {
   "cell_type": "code",
   "execution_count": null,
   "metadata": {},
   "outputs": [],
   "source": [
    "# Function to get forward rates\n",
    "def fx_forward(currency_pair, t, t_1, fx, interest_rates):\n",
    "    \"\"\"Useage:\n",
    "    date_1 = pd.Timestamp('2020-12-16')\n",
    "    date_2 = pd.Timestamp('2020-12-18')\n",
    "    fx_forward('USDCHF', date_1, date_2, df_fx, df_r)\n",
    "    \"\"\"\n",
    "    # Get spot exchange rate and LIBOR rates\n",
    "    s = fx.loc[t, currency_pair]\n",
    "    r_d = interest_rates.loc[t, currency_pair[3:]]\n",
    "    r_f = interest_rates.loc[t, currency_pair[:3]]\n",
    "    \n",
    "    # Calculate number of days\n",
    "    n_days = t_1 - t\n",
    "    n_days = n_days.days\n",
    "    \n",
    "    # Forward rate\n",
    "    f = np.log(s) + np.log(1+r_d)*n_days/365 - np.log(1+r_f)*n_days/365\n",
    "    \n",
    "    return np.exp(f)\n",
    "    "
   ]
  },
  {
   "cell_type": "code",
   "execution_count": null,
   "metadata": {
    "scrolled": false
   },
   "outputs": [],
   "source": [
    "# Create a df with daily forward rates\n",
    "df_f_daily = pd.DataFrame(index=df_r.index, columns=df_fx_direct.columns)\n",
    "df_f_daily = df_f_daily.sort_index()\n",
    "for d in range(len(df_f_daily.index)-1):\n",
    "    for c in range(len(df_f_daily.columns)):\n",
    "        try:\n",
    "            df_f_daily.iloc[d, c] = fx_forward(df_f_daily.columns[c], df_f_daily.index[d], df_f_daily.index[d+1], df_fx_direct, df_r)\n",
    "        except KeyError:\n",
    "            df_f_daily.iloc[d, c] = np.nan\n"
   ]
  },
  {
   "cell_type": "code",
   "execution_count": null,
   "metadata": {},
   "outputs": [],
   "source": [
    "# To exclude currency effects in correlations, we need MSCI returns hedged to CHF. This are price indices, not total return indices.\n",
    "\n",
    "# FX Hedged MSCI Returns\n",
    "df_msci_local_chf = df_msci_local.copy()\n",
    "df_msci_local_chf = np.log(df_msci_local_chf.sort_index()).diff()\n",
    "\n",
    "# Now they are USD hedged returns, change to CHF hedged returns\n",
    "\n",
    "# MSCI World and US are denoted in USD\n",
    "df_msci_local_chf['MSDLWI Index'] = df_msci_local_chf['MSDLWI Index'] * df_fx_direct['USDCHF'] / df_f_daily['USDCHF'].shift()\n",
    "df_msci_local_chf['MXUS Index'] = df_msci_local_chf['MXUS Index'] * df_fx_direct['USDCHF'] / df_f_daily['USDCHF'].shift()\n",
    "\n",
    "# MSCI Europe is denoted in EUR\n",
    "df_msci_local_chf['MSDLE15 Index'] = df_msci_local_chf['MSDLE15 Index'] * df_fx_direct['EURCHF'] / df_f_daily['EURCHF'].shift()\n",
    "\n",
    "# MSCI Australia is denoted in AUD\n",
    "df_msci_local_chf['MSDLAS Index'] = df_msci_local_chf['MSDLAS Index'] * df_fx_direct['AUDCHF'] / df_f_daily['AUDCHF'].shift()\n",
    "\n",
    "# MSCI Canada is denoted in CAD\n",
    "df_msci_local_chf['MSDLCA Index'] = df_msci_local_chf['MSDLCA Index'] * df_fx_direct['CADCHF'] / df_f_daily['CADCHF'].shift()\n",
    "\n",
    "# MSCI Japan is denoted in JPY\n",
    "df_msci_local_chf['MSDLJN Index'] = df_msci_local_chf['MSDLJN Index'] * df_fx_direct['JPYCHF'] / df_f_daily['JPYCHF'].shift()\n",
    "\n",
    "# MSCI UK is denoted in GBP\n",
    "df_msci_local_chf['MSDLUK Index'] = df_msci_local_chf['MSDLUK Index'] * df_fx_direct['EURCHF'] / df_f_daily['EURCHF'].shift()\n",
    "\n",
    "# Drop columns with NA\n",
    "df_msci_local_chf = df_msci_local_chf[df_msci_local_chf!=0].dropna()\n",
    "df_msci_local_chf = df_msci_local_chf.replace([np.inf, -np.inf], np.nan)\n",
    "\n",
    "# Combine with FX returns data\n",
    "df_fx_direct_ret = np.log(df_fx_direct.sort_index()).diff()\n",
    "df_msci_fx_ret = pd.concat([df_msci_local_chf, df_fx_direct_ret], axis=1, join=\"inner\")\n",
    "\n",
    "\n",
    "# Daily correlation MSCI World and FX\n",
    "df_msci_w_fx_ret = df_msci_fx_ret[df_fx_direct.columns]\n",
    "df_msci_w_fx_ret.loc[:,'M0WOHCHF Index'] = np.log(df_msci_world_h_chf['M0WOHCHF Index']).diff()"
   ]
  },
  {
   "cell_type": "code",
   "execution_count": null,
   "metadata": {},
   "outputs": [],
   "source": [
    "# Create a df with monthly forward rates\n",
    "df_f_m = pd.DataFrame(index=df_msci_local_m.index, columns=df_fx_direct_m.columns)\n",
    "df_f_m = df_f_m.sort_index()\n",
    "for d in range(len(df_f_m.index)-1):\n",
    "    for c in range(len(df_f_m.columns)):\n",
    "        try:\n",
    "            df_f_m.iloc[d, c] = fx_forward(df_f_m.columns[c], df_f_m.index[d], df_f_m.index[d+1], df_fx_direct_m, df_r_m)\n",
    "        except KeyError:\n",
    "            df_f_m.iloc[d, c] = np.nan"
   ]
  },
  {
   "cell_type": "code",
   "execution_count": null,
   "metadata": {},
   "outputs": [],
   "source": [
    "# Unhedged MSCI Returns\n",
    "df_msci_usd_chf_m = np.log(df_msci_usd_chf_m.sort_index()).diff()\n",
    "\n",
    "# FX Hedged MSCI Returns\n",
    "df_msci_local_chf_m = df_msci_local_m.copy()\n",
    "df_msci_local_chf_m = np.log(df_msci_local_chf_m.sort_index()).diff()\n",
    "\n",
    "# Now they are USD hedged returns, change to CHF hedged returns\n",
    "\n",
    "# MSCI World and US are denoted in USD\n",
    "df_msci_local_chf_m['MSDLWI Index'] = df_msci_local_chf_m['MSDLWI Index'] * df_fx_direct_m['USDCHF'] / df_f_m['USDCHF'].shift()\n",
    "df_msci_local_chf_m['MXUS Index'] = df_msci_local_chf_m['MXUS Index'] * df_fx_direct_m['USDCHF'] / df_f_m['USDCHF'].shift()\n",
    "\n",
    "# MSCI Europe is denoted in EUR\n",
    "df_msci_local_chf_m['MSDLE15 Index'] = df_msci_local_chf_m['MSDLE15 Index'] * df_fx_direct_m['EURCHF'] / df_f_m['EURCHF'].shift()\n",
    "\n",
    "# MSCI Australia is denoted in AUD\n",
    "df_msci_local_chf_m['MSDLAS Index'] = df_msci_local_chf_m['MSDLAS Index'] * df_fx_direct_m['AUDCHF'] / df_f_m['AUDCHF'].shift()\n",
    "\n",
    "# MSCI Canada is denoted in CAD\n",
    "df_msci_local_chf_m['MSDLCA Index'] = df_msci_local_chf_m['MSDLCA Index'] * df_fx_direct_m['CADCHF'] / df_f_m['CADCHF'].shift()\n",
    "\n",
    "# MSCI Japan is denoted in JPY\n",
    "df_msci_local_chf_m['MSDLJN Index'] = df_msci_local_chf_m['MSDLJN Index'] * df_fx_direct_m['JPYCHF'] / df_f_m['JPYCHF'].shift()\n",
    "\n",
    "# MSCI UK is denoted in GBP\n",
    "df_msci_local_chf_m['MSDLUK Index'] = df_msci_local_chf_m['MSDLUK Index'] * df_fx_direct_m['EURCHF'] / df_f_m['EURCHF'].shift()\n",
    "\n",
    "# Drop columns with NA\n",
    "df_msci_local_chf_m = df_msci_local_chf_m[df_msci_local_chf_m!=0].dropna()\n",
    "df_msci_local_chf_m = df_msci_local_chf_m.replace([np.inf, -np.inf], np.nan)\n",
    "\n",
    "# Combine with FX rate data\n",
    "df_fx_direct_ret_m = np.log(df_fx_direct_m.sort_index()).diff()\n",
    "\n",
    "# Combine the df\n",
    "df_msci_fx_ret_m = pd.concat([df_msci_local_chf_m, df_fx_direct_ret_m], axis=1, join=\"inner\")\n",
    "df_msci_fx_ret_m = df_msci_fx_ret_m[df_msci_fx_ret_m!=0].dropna()\n",
    "\n",
    "# Df with only MSCI World and FX\n",
    "df_msci_w_fx_ret_m = df_msci_fx_ret_m[df_fx_direct_m.columns]\n",
    "df_msci_w_fx_ret_m.loc[:,'M0WOHCHF Index'] = np.log(df_msci_world_h_chf_m['M0WOHCHF Index']).diff()"
   ]
  },
  {
   "cell_type": "markdown",
   "metadata": {},
   "source": [
    "## Correlation Plots\n",
    "### Daily return correlations"
   ]
  },
  {
   "cell_type": "code",
   "execution_count": null,
   "metadata": {
    "scrolled": false
   },
   "outputs": [],
   "source": [
    "# Daily correlations\n",
    "df_msci_w_fx_ret.corr()"
   ]
  },
  {
   "cell_type": "code",
   "execution_count": null,
   "metadata": {},
   "outputs": [],
   "source": [
    "# Monthly correlations\n",
    "df_msci_w_fx_ret_m.corr()"
   ]
  },
  {
   "cell_type": "markdown",
   "metadata": {},
   "source": [
    "### Rolling Correlations"
   ]
  },
  {
   "cell_type": "code",
   "execution_count": null,
   "metadata": {
    "scrolled": false
   },
   "outputs": [],
   "source": [
    "# 360 Day rolling correlations\n",
    "df_msci_w_fx_ret[df_fx_direct.columns].rolling('360D', min_periods=40).corr(df_msci_w_fx_ret['M0WOHCHF Index']).plot()\n",
    "\n",
    "# Set figure size and save\n",
    "figure = plt.gcf()\n",
    "figure.set_size_inches(8, 6)\n",
    "\n",
    "plt.title('360 Day Correlation FX Rates and MSCI World')\n",
    "plt.savefig('Plots/MSCIWorld_FX_RollingCorrelations360D.jpg', dpi=300)"
   ]
  },
  {
   "cell_type": "markdown",
   "metadata": {},
   "source": [
    "### Correlation heatmap"
   ]
  },
  {
   "cell_type": "code",
   "execution_count": null,
   "metadata": {},
   "outputs": [],
   "source": [
    "sns.heatmap(df_msci_fx_ret_m.corr(), xticklabels=df_msci_fx_ret_m.columns.values, yticklabels=df_msci_fx_ret_m.columns.values)"
   ]
  },
  {
   "cell_type": "markdown",
   "metadata": {},
   "source": [
    "### Scatterplot of all MSCI World - FX Correlations"
   ]
  },
  {
   "cell_type": "code",
   "execution_count": null,
   "metadata": {
    "scrolled": true
   },
   "outputs": [],
   "source": [
    "fig, ax = plt.subplots()\n",
    "for currency in df_fx_direct.columns:\n",
    "    ax.scatter(df_msci_fx_ret_m[currency], df_msci_fx_ret_m['MSDLWI Index'], label=currency)\n",
    "ax.legend()\n",
    "ax.grid(True)"
   ]
  },
  {
   "cell_type": "markdown",
   "metadata": {},
   "source": [
    "### Pairplot MSCI World and FX rates"
   ]
  },
  {
   "cell_type": "code",
   "execution_count": null,
   "metadata": {
    "scrolled": true
   },
   "outputs": [],
   "source": [
    "sns.pairplot(df_msci_w_fx_ret_m)"
   ]
  },
  {
   "cell_type": "markdown",
   "metadata": {},
   "source": [
    "### Pairplot with densities"
   ]
  },
  {
   "cell_type": "code",
   "execution_count": null,
   "metadata": {},
   "outputs": [],
   "source": [
    "# Gridplot\n",
    "grid = sns.PairGrid(data=df_msci_w_fx_ret_m)\n",
    "grid = grid.map_upper(plt.scatter, edgecolor = 'white')\n",
    "grid = grid.map_diag(plt.hist, bins = 20, \n",
    "                     edgecolor = 'k')\n",
    "grid = grid.map_lower(sns.kdeplot, cmap = 'Blues')\n",
    "grid.savefig('Plots/FX_MSCIWorld_PairCorrelation_Monthly.jpg')"
   ]
  },
  {
   "cell_type": "markdown",
   "metadata": {},
   "source": [
    "## Create partially hedged MSCI World Index"
   ]
  },
  {
   "cell_type": "markdown",
   "metadata": {},
   "source": [
    "### Rolling Regression to get country and currency weights\n",
    "Based on daily data"
   ]
  },
  {
   "cell_type": "code",
   "execution_count": null,
   "metadata": {
    "scrolled": true
   },
   "outputs": [],
   "source": [
    "# Create a df of country price indices of all 23 MSCI World Constituent Countries\n",
    "\n",
    "# Read all filenames in folder\n",
    "from os import walk\n",
    "_, _, filenames = next(walk('Data/MSCI_WORLD_CONSTITUENTS'))\n",
    "filenames.remove('.DS_Store')\n",
    "df_msci_constituents = pd.DataFrame()\n",
    "msci_constituent_currency = {}\n",
    "\n",
    "# Read each file and add it to the df\n",
    "for file in filenames:\n",
    "    # Get name and currency of country\n",
    "    country = file[5:]\n",
    "    country = country[0:country.find('_')]\n",
    "    currency = file[len(file)-8:len(file)-5]\n",
    "    msci_constituent_currency[country] = currency\n",
    "    \n",
    "    # Read the country index data and append to df\n",
    "    df = pd.read_excel('Data/MSCI_WORLD_CONSTITUENTS/' + file, header=16, index_col=0)\n",
    "    df = df['Close']\n",
    "    df = pd.DataFrame({country:df})\n",
    "    df = df.sort_index()\n",
    "    \n",
    "    # Add empty df with difference of indexes. Maybe more elegant way to do this?\n",
    "    df_empty = pd.DataFrame(columns=[country], index=df.index.difference(df_msci_constituents.index))\n",
    "    df_msci_constituents = df_msci_constituents.append(df_empty)\n",
    "    df_msci_constituents[country] = df\n",
    "\n",
    "# Add the hedged MSCI World price index, to make sure we only include days where all data are available\n",
    "df_msci_constituents = df_msci_constituents.sort_index()\n",
    "df_msci_constituents['World'] = df_msci_local['MSDLWI Index']\n",
    "df_msci_constituents_ret = np.log(df_msci_constituents).diff()\n",
    "df_msci_constituents_ret = df_msci_constituents_ret[df_msci_constituents_ret!=0].dropna()\n"
   ]
  },
  {
   "cell_type": "code",
   "execution_count": null,
   "metadata": {
    "scrolled": false
   },
   "outputs": [],
   "source": [
    "# Use the RollingOLS function to get rolling loading of MSCI World on MSCI Country indices, \n",
    "# and therefore the country weights\n",
    "y = df_msci_constituents_ret['World']\n",
    "all_countries = df_msci_constituents_ret.columns.drop(\"World\")\n",
    "x = df_msci_constituents_ret[all_countries]\n",
    "\n",
    "ols = RollingOLS(y, x, window=252).fit()\n",
    "ols.params.plot()\n",
    "\n",
    "# Check last weights of 5 countries, as test if weights are reasonable. Actual weights per 31.12.2020 were:\n",
    "# USA: 66.08%, Japan: 7.8%, UK: 4.33%, France: 3.42%, Canada: 3.11%\n",
    "ols.params[['USA', 'JAPAN', 'UK', 'FRANCE', 'CANADA']].tail()\n",
    "\n",
    "# -> Weights are not perfect, but generally reasonable\n",
    "\n",
    "# Save Country weights\n",
    "ols.params.to_csv('MSCIWorldCountryWeights.csv')"
   ]
  },
  {
   "cell_type": "code",
   "execution_count": null,
   "metadata": {},
   "outputs": [],
   "source": [
    "# Currency weights\n",
    "df_msci_world_currency_weights = ols.params.transpose()\n",
    "df_msci_world_currency_weights = df_msci_world_currency_weights.rename(msci_constituent_currency)\n",
    "df_msci_world_currency_weights = df_msci_world_currency_weights.groupby(df_msci_world_currency_weights.index).sum()\n",
    "df_msci_world_currency_weights = df_msci_world_currency_weights.transpose()\n",
    "\n",
    "# Save to CSV\n",
    "df_msci_world_currency_weights.to_csv('MSCIWorldCurrencyWeights.csv')\n",
    "\n",
    "# Relevant currencies\n",
    "#df_msci_world_currency_weights = df_msci_world_currency_weights[['USD', 'CHF', 'EUR', 'CAD', 'GBP', 'JPY', 'AUD']]\n",
    "df_msci_world_currency_weights = df_msci_world_currency_weights[df_msci_world_currency_weights!=0].dropna()\n",
    "df_msci_world_currency_weights.plot()\n",
    "plt.savefig('Plots/MSCIWorld_FX_Weights_360DAverage.jpg', dpi=300)\n"
   ]
  },
  {
   "cell_type": "code",
   "execution_count": null,
   "metadata": {},
   "outputs": [],
   "source": [
    "df_msci_world_currency_weights.sum(axis=1).plot()"
   ]
  },
  {
   "cell_type": "markdown",
   "metadata": {},
   "source": [
    "### Now create the partially hedged MSCI World index\n",
    "Basis is the MSCI World total return index denoted in CHF"
   ]
  },
  {
   "cell_type": "code",
   "execution_count": null,
   "metadata": {},
   "outputs": [],
   "source": [
    "# Prepare data to build the hedged portfolio\n",
    "\n",
    "# We can ignore fx forward margin according to Nicola Grass. Therefore set it to 0.\n",
    "backtest_fx_margin = 0\n",
    "\n",
    "# All months included in the backtest\n",
    "months = df_msci_world_chf_m.index\n",
    "backtest_start = '2002-12-31'\n",
    "months = months[months >= backtest_start]\n",
    "\n",
    "# Dataframe of all assets that can be invested in\n",
    "\n",
    "# First FX positions. FX return is the log(spot rate of time t) - log(forward rate of t-1)\n",
    "log_fx_direct_m = df_fx_direct_m.copy()\n",
    "log_df_f_m = df_f_m.copy()\n",
    "\n",
    "for r in log_fx_direct_m.index:\n",
    "    for c in log_fx_direct_m.columns:\n",
    "        log_fx_direct_m.loc[r,c] = np.log(df_fx_direct_m.loc[r,c])\n",
    "for r in log_df_f_m.index:\n",
    "    for c in log_df_f_m.columns:\n",
    "        log_df_f_m.loc[r,c] = np.log(df_f_m.loc[r,c])\n",
    "\n",
    "backtest_asset_returns = log_fx_direct_m - log_df_f_m.shift()\n",
    "\n",
    "# Add MSCI World total return index\n",
    "backtest_asset_returns['MSCI World'] = np.log(df_msci_world_chf_m).diff()\n",
    "\n",
    "# Only relevant months\n",
    "backtest_asset_returns = backtest_asset_returns.loc[months,:]\n",
    "\n",
    "# Note that these returns are log returns, but they need to be simple returns to calculate cross section \n",
    "# portfolio returns\n",
    "# backtest_asset_returns = np.exp(backtest_asset_returns) - 1 ### Somehow this gives me an error, therefore use\n",
    "# inefficient method below\n",
    "for r in backtest_asset_returns.index:\n",
    "    for c in backtest_asset_returns.columns:\n",
    "        backtest_asset_returns.loc[r,c] = np.exp(backtest_asset_returns.loc[r,c]) - 1"
   ]
  },
  {
   "cell_type": "code",
   "execution_count": null,
   "metadata": {},
   "outputs": [],
   "source": [
    "# Now determine the portfolio weights\n",
    "\n",
    "# Empty df to store asset weights\n",
    "backtest_partial_hedge_weights = pd.DataFrame(0, index=months, columns=backtest_asset_returns.columns)\n",
    "\n",
    "# Hedge ratios from rolling regression above. Resample to monthly.\n",
    "backtest_partial_hedge_ratios = df_msci_world_currency_weights.resample('M').last()\n",
    "\n",
    "# Only the cyclical currencies are hedged\n",
    "for month in months:\n",
    "    # Only the cyclical currencies are hedged\n",
    "    backtest_partial_hedge_weights.loc[month, 'EURCHF'] = -backtest_partial_hedge_ratios.loc[month,'EUR']\n",
    "    backtest_partial_hedge_weights.loc[month, 'CADCHF'] = -backtest_partial_hedge_ratios.loc[month,'CAD']\n",
    "    backtest_partial_hedge_weights.loc[month, 'GBPCHF'] = -backtest_partial_hedge_ratios.loc[month,'GBP']\n",
    "    backtest_partial_hedge_weights.loc[month, 'AUDCHF'] = -backtest_partial_hedge_ratios.loc[month,'AUD']\n",
    "    \n",
    "    # Weight of MSCI World is always 1\n",
    "    backtest_partial_hedge_weights.loc[month, 'MSCI World'] = 1\n",
    "    \n",
    "# Normalize asset weights to 1\n",
    "backtest_partial_hedge_weights_absolute = np.abs(backtest_partial_hedge_weights)\n",
    "\n",
    "# Multiply fx positions with margin %\n",
    "backtest_partial_hedge_weights_absolute[df_fx_direct_m.columns] = backtest_partial_hedge_weights[df_fx_direct_m.columns]*backtest_fx_margin\n",
    "\n",
    "# Total weights\n",
    "backtest_partial_hedge_weights_absolute = backtest_partial_hedge_weights_absolute.sum(axis=1)\n",
    "\n",
    "# Final weights\n",
    "backtest_partial_hedge_weights = backtest_partial_hedge_weights.divide(backtest_partial_hedge_weights_absolute, axis='rows')"
   ]
  },
  {
   "cell_type": "code",
   "execution_count": null,
   "metadata": {
    "scrolled": true
   },
   "outputs": [],
   "source": [
    "backtest_partial_hedge_weights"
   ]
  },
  {
   "cell_type": "markdown",
   "metadata": {},
   "source": [
    "## Attention: \n",
    "optimal_hedge_ratio sets hedge ratio based on correlation with currencies\n",
    "optimal_hedge maximises sharpe ratio"
   ]
  },
  {
   "cell_type": "code",
   "execution_count": null,
   "metadata": {},
   "outputs": [],
   "source": [
    "# Add optimal hedge ratio strategy\n",
    "df_msci_fx_ret = df_msci_w_fx_ret[df_msci_w_fx_ret.index.isin(df_msci_w_fx_ret.index)]\n",
    "df_msci_fx_ret.loc[:,'M0WOHCHF Index'] = np.log(df_msci_world_chf).diff()\n",
    "cols = list(df_msci_fx_ret.columns)\n",
    "cols[-1] = 'MSCI World Total Return CHF'\n",
    "df_msci_fx_ret.columns = cols\n",
    "df_msci_fx_ret\n",
    "\n",
    "optimal_hedge_weights = pd.DataFrame(index = df_msci_fx_ret.index)\n",
    "\n",
    "# Not enough data for first four months, determine weights for these months based on smaller window\n",
    "optimal_hedge_weights_small_window = pd.DataFrame(index = df_msci_fx_ret.index)\n",
    "\n",
    "# Rolling correlations\n",
    "for cur in df_fx_direct.columns:\n",
    "    x = df_msci_fx_ret[cur]\n",
    "    y = df_msci_fx_ret['MSCI World Total Return CHF']\n",
    "    ols = RollingOLS(y, x, window=504).fit().params\n",
    "    optimal_hedge_weights[cur] = - ols\n",
    "    ols = RollingOLS(y, x, window=400).fit().params\n",
    "    optimal_hedge_weights_small_window[cur] = - ols\n",
    "    \n",
    "optimal_hedge_weights[optimal_hedge_weights.isna()] = optimal_hedge_weights_small_window[optimal_hedge_weights.isna()]\n",
    "    \n",
    "# optimal_hedge_weights =  - df_msci_fx_ret[df_fx_direct.columns].rolling('720D', min_periods=20).corr(df_msci_fx_ret['MSCI World Total Return CHF'])\n",
    "optimal_hedge_weights = optimal_hedge_weights.resample('M').last()\n",
    "backtest_optimal_hedge_ratio_weights = optimal_hedge_weights[optimal_hedge_weights.index.isin(months)]\n",
    "\n",
    "# To avoid overleverage, set leverage of FX to 1\n",
    "backtest_optimal_hedge_ratio_weights = backtest_optimal_hedge_ratio_weights.div(np.abs(backtest_optimal_hedge_ratio_weights).sum(axis=1), axis=0)\n",
    "\n",
    "backtest_optimal_hedge_ratio_weights['MSCI World'] = 1\n",
    "backtest_optimal_hedge_ratio_weights"
   ]
  },
  {
   "cell_type": "code",
   "execution_count": null,
   "metadata": {},
   "outputs": [],
   "source": [
    "# Add strategies from Tobias\n",
    "backtest_optimal_hedge_weights = pd.read_csv('optimal_weights.csv', index_col=0, parse_dates=True)\n",
    "\n",
    "# Change date from 1 st of month to last of previous month\n",
    "backtest_optimal_hedge_weights = backtest_optimal_hedge_weights.resample('M').last().shift(-1)\n",
    "\n",
    "# Only keep the months where comparison is possible\n",
    "backtest_optimal_hedge_weights = backtest_optimal_hedge_weights[backtest_optimal_hedge_weights.index.isin(backtest_partial_hedge_weights.index)]\n",
    "\n",
    "# Order columns\n",
    "backtest_optimal_hedge_weights = backtest_optimal_hedge_weights[['USD', 'EUR', 'GBP', 'AUD', 'JPY', 'CAD']] / 2\n",
    "backtest_optimal_hedge_weights['MSCI World'] = 1\n",
    "\n",
    "# Change column names\n",
    "backtest_optimal_hedge_weights.columns = backtest_partial_hedge_weights.columns\n",
    "\n",
    "\n",
    "# Alpha hedge\n",
    "backtest_alpha_hedge_weights = pd.read_csv('alpha_weights.csv', index_col=0, parse_dates=True)\n",
    "\n",
    "# Change date from 1 st of month to last of previous month\n",
    "backtest_alpha_hedge_weights = backtest_alpha_hedge_weights.resample('M').last().shift(-1)\n",
    "\n",
    "# Only keep the months where comparison is possible\n",
    "backtest_alpha_hedge_weights = backtest_alpha_hedge_weights[backtest_alpha_hedge_weights.index.isin(backtest_partial_hedge_weights.index)]\n",
    "\n",
    "# Order columns\n",
    "backtest_alpha_hedge_weights = backtest_alpha_hedge_weights[['USD', 'EUR', 'GBP', 'AUD', 'JPY', 'CAD']] / 2\n",
    "backtest_alpha_hedge_weights['MSCI World'] = 1\n",
    "\n",
    "# Change column names\n",
    "backtest_alpha_hedge_weights.columns = backtest_partial_hedge_weights.columns\n",
    "\n",
    "# Min var hedge\n",
    "backtest_min_var_hedge_weights = pd.read_csv('hedge_weights.csv', index_col=0, parse_dates=True)\n",
    "\n",
    "# Change date from 1 st of month to last of previous month\n",
    "backtest_min_var_hedge_weights = backtest_min_var_hedge_weights.resample('M').last().shift(-1)\n",
    "\n",
    "# Only keep the months where comparison is possible\n",
    "backtest_min_var_hedge_weights = backtest_min_var_hedge_weights[backtest_min_var_hedge_weights.index.isin(backtest_partial_hedge_weights.index)]\n",
    "\n",
    "# Order columns\n",
    "backtest_min_var_hedge_weights = backtest_min_var_hedge_weights[['USD', 'EUR', 'GBP', 'AUD', 'JPY', 'CAD']] / 2\n",
    "backtest_min_var_hedge_weights['MSCI World'] = 1\n",
    "\n",
    "# Change column names\n",
    "backtest_min_var_hedge_weights.columns = backtest_partial_hedge_weights.columns\n",
    "backtest_min_var_hedge_weights"
   ]
  },
  {
   "cell_type": "code",
   "execution_count": null,
   "metadata": {},
   "outputs": [],
   "source": [
    "# Determine partially hedged MSCI World returns\n",
    "\n",
    "# Returns are weights of previous period * return of asset\n",
    "backtest_partial_hedge_returns = backtest_partial_hedge_weights.shift(1) * backtest_asset_returns\n",
    "backtest_partial_hedge_returns = backtest_partial_hedge_returns.sum(axis=1)\n",
    "\n",
    "# Change back to log returns to aggregate over time\n",
    "backtest_partial_hedge_returns = np.log(1+backtest_partial_hedge_returns)\n",
    "\n",
    "# Create index by multiplying 100 with 1 + simple return over time\n",
    "backtest_partial_hedge = 100*(np.exp(backtest_partial_hedge_returns.cumsum()))\n",
    "\n",
    "\n",
    "# Determine optimal SR hedged MSCI World returns\n",
    "\n",
    "backtest_optimal_hedge_returns = backtest_optimal_hedge_weights.shift(1) * backtest_asset_returns\n",
    "backtest_optimal_hedge_returns = backtest_optimal_hedge_returns.sum(axis=1)\n",
    "\n",
    "# Change back to log returns to aggregate over time\n",
    "backtest_optimal_hedge_returns = np.log(1+backtest_optimal_hedge_returns)\n",
    "\n",
    "# Create index by multiplying 100 with 1 + simple return over time\n",
    "backtest_optimal_hedge = 100*(np.exp(backtest_optimal_hedge_returns.cumsum()))\n",
    "\n",
    "# Determine returns with alpha hedge\n",
    "\n",
    "backtest_alpha_hedge_returns = backtest_alpha_hedge_weights.shift(1) * backtest_asset_returns\n",
    "backtest_alpha_hedge_returns = backtest_alpha_hedge_returns.sum(axis=1)\n",
    "\n",
    "# Change back to log returns to aggregate over time\n",
    "backtest_alpha_hedge_returns = np.log(1+backtest_alpha_hedge_returns)\n",
    "\n",
    "# Create index by multiplying 100 with 1 + simple return over time\n",
    "backtest_alpha_hedge = 100*(np.exp(backtest_alpha_hedge_returns.cumsum()))\n",
    "\n",
    "# Determine returns with min var hedge\n",
    "\n",
    "backtest_min_var_hedge_returns = backtest_min_var_hedge_weights.shift(1) * backtest_asset_returns\n",
    "backtest_min_var_hedge_returns = backtest_min_var_hedge_returns.sum(axis=1)\n",
    "\n",
    "# Change back to log returns to aggregate over time\n",
    "backtest_min_var_hedge_returns = np.log(1+backtest_min_var_hedge_returns)\n",
    "\n",
    "# Create index by multiplying 100 with 1 + simple return over time\n",
    "backtest_min_var_hedge = 100*(np.exp(backtest_min_var_hedge_returns.cumsum()))\n",
    "\n",
    "# Determine returns with optimal hedge ratio\n",
    "\n",
    "backtest_optimal_hedge_ratio_returns = backtest_optimal_hedge_ratio_weights.shift(1) * backtest_asset_returns\n",
    "backtest_optimal_hedge_ratio_returns = backtest_optimal_hedge_ratio_returns.sum(axis=1)\n",
    "\n",
    "# Change back to log returns to aggregate over time\n",
    "backtest_optimal_hedge_ratio_returns = np.log(1+backtest_optimal_hedge_ratio_returns)\n",
    "\n",
    "# Create index by multiplying 100 with 1 + simple return over time\n",
    "backtest_optimal_hedge_ratio_hedge = 100*(np.exp(backtest_optimal_hedge_ratio_returns.cumsum()))\n",
    "backtest_optimal_hedge_ratio_hedge"
   ]
  },
  {
   "cell_type": "markdown",
   "metadata": {},
   "source": [
    "## Evaluate Performance"
   ]
  },
  {
   "cell_type": "code",
   "execution_count": null,
   "metadata": {},
   "outputs": [],
   "source": [
    "# Compare with 100% CHF hedged MSCI World\n",
    "backtest_benchmark_hedged_msci_world_returns = np.log(df_msci_world_h_chf_m['M0WOHCHF Index'].loc[backtest_partial_hedge.index]).diff()\n",
    "backtest_benchmark_hedged_msci_world = 100*(np.exp(backtest_benchmark_hedged_msci_world_returns.cumsum()))\n",
    "\n",
    "# Compare with unhedged MSCI World\n",
    "backtest_benchmark_unhedged_msci_world_returns = np.log(df_msci_world_chf_m.loc[backtest_partial_hedge.index]).diff()\n",
    "backtest_benchmark_unhedged_msci_world = 100*(np.exp(backtest_benchmark_unhedged_msci_world_returns.cumsum()))\n",
    "\n",
    "plt.plot(backtest_partial_hedge)\n",
    "plt.plot(backtest_benchmark_hedged_msci_world)\n",
    "plt.plot(backtest_benchmark_unhedged_msci_world)\n",
    "plt.plot(backtest_optimal_hedge)\n",
    "plt.plot(backtest_alpha_hedge)\n",
    "plt.plot(backtest_min_var_hedge)\n",
    "plt.plot(backtest_optimal_hedge_ratio_hedge)\n",
    "\n",
    "plt.title('MSCI World hedge performance comparison')\n",
    "plt.legend(['Cyclical Currencies Hedged', '100% CHF Hedged', 'Unhedged', 'Sharpe Ratio Hedge', 'Alpha Hedge', 'Minimum Variance Hedge', 'Optimal Hedge Ratio'])\n",
    "plt.savefig('Plots/MSCI_World_hedge_comparison.jpg', dpi=300)\n"
   ]
  },
  {
   "cell_type": "code",
   "execution_count": null,
   "metadata": {},
   "outputs": [],
   "source": [
    "# Sharpe Ratio\n",
    "def sharpe_ratio(return_series, risk_free_rate_df, return_series_currency='CHF'):\n",
    "    '''\n",
    "    Calculates sharpe ratio based on continuous returns.\n",
    "    Returns: sharpe ratio, discrete annualized return, annualized volatility\n",
    "    '''\n",
    "\n",
    "    # Drop NA\n",
    "    return_series = return_series.dropna()\n",
    "    \n",
    "    # Select the relevant risk free rate\n",
    "    risk_free_rate = risk_free_rate_df[return_series_currency]\n",
    "    \n",
    "    # Change annualized risk free rate to right rate of return period\n",
    "    return_days = return_series.index - return_series.index.shift(-1)\n",
    "    return_days = return_days.days\n",
    "    \n",
    "    # Change to continuous for duration change\n",
    "    risk_free_rate = np.log(risk_free_rate+1)\n",
    "    \n",
    "    # Change to risk free rate of number of days\n",
    "    risk_free_rate = risk_free_rate.loc[return_series.index] * return_days / 365\n",
    "    \n",
    "    # Excess returns\n",
    "    excess_returns = return_series - risk_free_rate\n",
    "    \n",
    "    # Annualized excess return\n",
    "    total_excess_return = sum(excess_returns)\n",
    "    total_years = excess_returns.index[-1] - excess_returns.index[0]\n",
    "    total_years = total_years.days/365\n",
    "    annualized_excess_return = total_excess_return / total_years\n",
    "    \n",
    "    # Annualized return\n",
    "    annualized_return = np.exp(sum(return_series) / total_years) - 1\n",
    "    \n",
    "    # Annualized volatility. Frequency of returns is monthly, so multiply with sqrt(12)\n",
    "    annualized_volatility = excess_returns.std() * np.sqrt(12)\n",
    "    \n",
    "    # Sharpe Ratio\n",
    "    sharpe_ratio = annualized_excess_return / annualized_volatility\n",
    "    \n",
    "    return sharpe_ratio, annualized_return, annualized_volatility\n",
    "\n",
    "# Create a table of results\n",
    "index_performance = pd.DataFrame(columns=['Unhedged', '100% CHF Hedged', 'Cyclical Currency Hedge', 'Sharpe Ratio Hedge', 'Minimum Variance Hedge', 'Alpha Hedge', 'Optimal Hedge Ratio'], index=['Sharpe Ratio', 'Annualized Return', 'Annualized Volatility'])\n",
    "index_performance['Unhedged'] = sharpe_ratio(backtest_benchmark_unhedged_msci_world_returns, df_r_m)\n",
    "index_performance['Cyclical Currency Hedge'] = sharpe_ratio(backtest_partial_hedge_returns, df_r_m)\n",
    "index_performance['100% CHF Hedged'] = sharpe_ratio(backtest_benchmark_hedged_msci_world_returns, df_r_m)\n",
    "index_performance['Sharpe Ratio Hedge'] = sharpe_ratio(backtest_optimal_hedge_returns, df_r_m)\n",
    "index_performance['Minimum Variance Hedge'] = sharpe_ratio(backtest_min_var_hedge_returns, df_r_m)\n",
    "index_performance['Alpha Hedge'] = sharpe_ratio(backtest_alpha_hedge_returns, df_r_m)\n",
    "index_performance['Optimal Hedge Ratio'] = sharpe_ratio(backtest_optimal_hedge_ratio_returns, df_r_m)\n",
    "\n",
    "index_performance"
   ]
  }
 ],
 "metadata": {
  "kernelspec": {
   "display_name": "Python 3",
   "language": "python",
   "name": "python3"
  },
  "language_info": {
   "codemirror_mode": {
    "name": "ipython",
    "version": 3
   },
   "file_extension": ".py",
   "mimetype": "text/x-python",
   "name": "python",
   "nbconvert_exporter": "python",
   "pygments_lexer": "ipython3",
   "version": "3.8.5"
  }
 },
 "nbformat": 4,
 "nbformat_minor": 2
}
