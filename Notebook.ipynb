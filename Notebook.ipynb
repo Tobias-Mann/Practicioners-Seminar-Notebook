{
 "cells": [
  {
   "cell_type": "markdown",
   "metadata": {},
   "source": [
    "# Practicioners Seminar"
   ]
  },
  {
   "cell_type": "code",
   "execution_count": 7,
   "metadata": {},
   "outputs": [],
   "source": [
    "import numpy as np\n",
    "import pandas as pd\n",
    "import seaborn as sns\n",
    "import os"
   ]
  },
  {
   "cell_type": "markdown",
   "metadata": {},
   "source": [
    "## Task 2\n",
    "\n",
    "### A correlation heatmap for currencies and equity markets"
   ]
  },
  {
   "cell_type": "code",
   "execution_count": 20,
   "metadata": {},
   "outputs": [
    {
     "name": "stdout",
     "output_type": "stream",
     "text": [
      "            CHFUSD  CHFEUR  CHFGBP  CHFAUD   CHFJPY  CHFCAD\n",
      "Date                                                       \n",
      "2020-12-22  1.1301  0.9224  0.8422  1.4941  116.814  1.4535\n",
      "2020-12-21  1.1291  0.9219  0.8386  1.4880  116.655  1.4516\n",
      "2020-12-18  1.1323  0.9235  0.8369  1.4857  116.924  1.4474\n",
      "2020-12-17  1.1308  0.9216  0.8321  1.4830  116.543  1.4385\n",
      "2020-12-16  1.1298  0.9261  0.8360  1.4911  116.852  1.4394\n",
      "2020-12-15  1.1291  0.9290  0.8385  1.4937  117.050  1.4340\n",
      "2020-12-14  1.1274  0.9284  0.8460  1.4964  117.326  1.4390\n",
      "2020-12-11  1.1237  0.9276  0.8498  1.4913  116.895  1.4350\n",
      "2020-12-10  1.1289  0.9297  0.8492  1.4979  117.645  1.4382\n",
      "2020-12-09  1.1243  0.9307  0.8389  1.5100  117.197  1.4411\n",
      "2020-12-08  1.1249  0.9292  0.8422  1.5174  117.151  1.4420\n",
      "2020-12-07  1.1224  0.9270  0.8386  1.5128  116.839  1.4367\n",
      "2020-12-04  1.1212  0.9251  0.8342  1.5101  116.728  1.4333\n",
      "2020-12-03  1.1228  0.9239  0.8345  1.5085  116.553  1.4431\n",
      "2020-12-02  1.1177  0.9225  0.8362  1.5073  116.705  1.4437\n",
      "2020-12-01  1.1112  0.9208  0.8279  1.5073  115.940  1.4373\n",
      "2020-11-30  1.1001  0.9225  0.8258  1.4984  114.781  1.4305\n",
      "2020-11-27  1.1034  0.9226  0.8290  1.4940  114.877  1.4338\n",
      "2020-11-26  1.1029  0.9257  0.8256  1.4977  114.973  1.4356\n",
      "2020-11-25  1.1009  0.9240  0.8224  1.4947  114.982  1.4320\n",
      "2020-11-24  1.0975  0.9227  0.8213  1.4908  114.612  1.4265\n",
      "2020-11-23  1.0960  0.9256  0.8226  1.5036  114.493  1.4342\n",
      "2020-11-20  1.0977  0.9258  0.8265  1.5029  113.975  1.4372\n",
      "2020-11-19  1.0982  0.9248  0.8278  1.5064  113.903  1.4356\n",
      "2020-11-18  1.0976  0.9260  0.8273  1.5022  113.944  1.4361\n",
      "2020-11-17  1.0971  0.9248  0.8281  1.5027  114.321  1.4378\n",
      "2020-11-16  1.0959  0.9246  0.8299  1.4973  114.584  1.4328\n",
      "2020-11-13  1.0958  0.9260  0.8309  1.5069  114.647  1.4387\n",
      "2020-11-12  1.0927  0.9256  0.8330  1.5111  114.926  1.4361\n",
      "2020-11-11  1.0906  0.9259  0.8247  1.4974  114.943  1.4245\n",
      "...            ...     ...     ...     ...      ...     ...\n",
      "1971-02-12  0.2327  0.0000  0.0963  0.0000   83.203  0.0000\n",
      "1971-02-11  0.2327  0.0000  0.0963  0.0000   83.203  0.0000\n",
      "1971-02-10  0.2327  0.0000  0.0965  0.0000   83.194  0.0000\n",
      "1971-02-09  0.2327  0.0000  0.0965  0.0000   83.200  0.0000\n",
      "1971-02-08  0.2327  0.0000  0.0966  0.0000   83.178  0.0000\n",
      "1971-02-05  0.2327  0.0000  0.0966  0.0000   83.206  0.0000\n",
      "1971-02-04  0.2327  0.0000  0.0966  0.0000   83.208  0.0000\n",
      "1971-02-03  0.2327  0.0000  0.0965  0.0000   83.217  0.0000\n",
      "1971-02-02  0.2327  0.0000  0.0964  0.0000   83.211  0.0000\n",
      "1971-02-01  0.2327  0.0000  0.0966  0.0000   83.241  0.0000\n",
      "1971-01-29  0.2328  0.0000  0.0967  0.0000   83.262  0.0000\n",
      "1971-01-28  0.2327  0.0000  0.0967  0.0000   83.259  0.0000\n",
      "1971-01-27  0.2327  0.0000  0.0968  0.0000   83.259  0.0000\n",
      "1971-01-26  0.2326  0.0000  0.0968  0.0000   83.230  0.0000\n",
      "1971-01-25  0.2325  0.0000  0.0968  0.0000   83.183  0.0000\n",
      "1971-01-22  0.2326  0.0000  0.0968  0.0000   83.240  0.0000\n",
      "1971-01-21  0.2325  0.0000  0.0967  0.0000   83.286  0.0000\n",
      "1971-01-20  0.2325  0.0000  0.0000  0.0000   83.329  0.0000\n",
      "1971-01-19  0.2325  0.0000  0.0000  0.0000   83.326  0.0000\n",
      "1971-01-18  0.2324  0.0000  0.0000  0.0000   83.267  0.0000\n",
      "1971-01-15  0.2321  0.0000  0.0000  0.0000   83.202  0.0000\n",
      "1971-01-14  0.2320  0.0000  0.0000  0.0000   83.165  0.0000\n",
      "1971-01-13  0.2320  0.0000  0.0000  0.0000   83.174  0.0000\n",
      "1971-01-12  0.2320  0.0000  0.0000  0.0000   83.078  0.0000\n",
      "1971-01-11  0.2320  0.0000  0.0000  0.0000   83.047  0.0000\n",
      "1971-01-08  0.2320  0.0000  0.0000  0.0000   83.004  0.0000\n",
      "1971-01-07  0.2320  0.0000  0.0000  0.0000   83.027  0.0000\n",
      "1971-01-06  0.2319  0.0000  0.0000  0.0000   83.005  0.0000\n",
      "1971-01-05  0.2319  0.0000  0.0000  0.0000   82.986  0.0000\n",
      "1971-01-04  0.2316  0.0000  0.0000  0.0000   82.846  0.0000\n",
      "\n",
      "[13037 rows x 6 columns]\n"
     ]
    }
   ],
   "source": [
    "currencies = \"FX_CHF_ALL_1971-2020.xlsx\"\n",
    "df = pd.read_excel(currencies, header=0, index_col=0, sheet_name=\"Sheet1\")\n",
    "print(df)"
   ]
  },
  {
   "cell_type": "code",
   "execution_count": 26,
   "metadata": {},
   "outputs": [
    {
     "data": {
      "text/plain": [
       "<matplotlib.axes._subplots.AxesSubplot at 0x123cc8240>"
      ]
     },
     "execution_count": 26,
     "metadata": {},
     "output_type": "execute_result"
    },
    {
     "data": {
      "image/png": "[encoded data removed]",
      "text/plain": [
       "<Figure size 432x288 with 2 Axes>"
      ]
     },
     "metadata": {},
     "output_type": "display_data"
    }
   ],
   "source": [
    "\n",
    "return_cor = df.pct_change().corr()\n",
    "sns.heatmap(return_cor, xticklabels=return_cor.columns.values, yticklabels=return_cor.columns.values)"
   ]
  },
  {
   "cell_type": "code",
   "execution_count": 24,
   "metadata": {},
   "outputs": [
    {
     "name": "stdout",
     "output_type": "stream",
     "text": [
      "          CHFUSD    CHFEUR    CHFGBP    CHFAUD    CHFJPY    CHFCAD\n",
      "CHFUSD  1.000000  0.155969  0.201779  0.111982  0.590179  0.204282\n",
      "CHFEUR  0.155969  1.000000  0.181164  0.157604  0.090658  0.185282\n",
      "CHFGBP  0.201779  0.181164  1.000000  0.172515  0.115671  0.199382\n",
      "CHFAUD  0.111982  0.157604  0.172515  1.000000  0.046299  0.174503\n",
      "CHFJPY  0.590179  0.090658  0.115671  0.046299  1.000000  0.116190\n",
      "CHFCAD  0.204282  0.185282  0.199382  0.174503  0.116190  1.000000\n"
     ]
    }
   ],
   "source": [
    "print(return_cor)"
   ]
  },
  {
   "cell_type": "markdown",
   "metadata": {},
   "source": [
    "### Interpretation:\n",
    "**correlations between, index and associated currency pair**:determinants of the optimal hedging ratio\n",
    "\n",
    "*higher positive correllations* $\\rightarrow$ imply lower desired hedges (hedging by using leverage in the foreign currency ?)\n",
    "\n",
    "*strong negative correlations* $\\rightarrow$ imply hedging effectivenes and thus higher optimal Hedging ratios\n",
    "\n",
    "*correlations near to zero* $\\rightarrow$ are interpreted to be cases in which hedging is also not desirable as heding is costly but heding does not decrease risk as measured by return variance\n",
    "\n",
    "\n",
    "**correlations between two indexes**: extreme values would indicate possible economic ties\n",
    "\n",
    "**correlations between two currency pairs**: extreme values would indicate possible economic ties\n",
    "The MSCI world index has predefined weights, however highly correlated economies and currencies should be hedged with respect to the exposure to each other. Are there such cases, what would be an optimal way to treat these economies? \n",
    "\n",
    "\n"
   ]
  },
  {
   "cell_type": "code",
   "execution_count": null,
   "metadata": {},
   "outputs": [],
   "source": []
  }
 ],
 "metadata": {
  "kernelspec": {
   "display_name": "Python 3",
   "language": "python",
   "name": "python3"
  },
  "language_info": {
   "codemirror_mode": {
    "name": "ipython",
    "version": 3
   },
   "file_extension": ".py",
   "mimetype": "text/x-python",
   "name": "python",
   "nbconvert_exporter": "python",
   "pygments_lexer": "ipython3",
   "version": "3.6.5"
  }
 },
 "nbformat": 4,
 "nbformat_minor": 2
}
