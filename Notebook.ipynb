{
 "cells": [
  {
   "cell_type": "markdown",
   "metadata": {},
   "source": [
    "# Practicioners Seminar"
   ]
  },
  {
   "cell_type": "code",
   "execution_count": null,
   "metadata": {},
   "outputs": [],
   "source": [
    "import numpy as np\n",
    "import pandas as pd\n",
    "import seaborn as sns\n"
   ]
  },
  {
   "cell_type": "markdown",
   "metadata": {},
   "source": [
    "## Task 2\n",
    "\n",
    "### A correlation heatmap for currencies and equity markets"
   ]
  },
  {
   "cell_type": "code",
   "execution_count": null,
   "metadata": {},
   "outputs": [],
   "source": [
    "FILE = \"\"\n",
    "df = pd.read_csv(FILE)\n",
    "return_cor = df.pct_change().corr()\n",
    "sns.heatmap(return_cor, xticks=return_cor.columns.values, yticks=return_cor.columns.values)"
   ]
  },
  {
   "cell_type": "markdown",
   "metadata": {},
   "source": [
    "### Interpretation:\n",
    "**correlations between, index and associated currency pair**:determinants of the optimal hedging ratio\n",
    "\n",
    "*higher positive correllations* $\\rightarrow$ imply lower desired hedges (hedging by using leverage in the foreign currency ?)\n",
    "\n",
    "*strong negative correlations* $\\rightarrow$ imply hedging effectivenes and thus higher optimal Hedging ratios\n",
    "\n",
    "*correlations near to zero* $\\rightarrow$ are interpreted to be cases in which hedging is also not desirable as heding is costly but heding does not decrease risk as measured by return variance\n",
    "\n",
    "\n",
    "**correlations between two indexes**: extreme values would indicate possible economic ties\n",
    "\n",
    "**correlations between two currency pairs**: extreme values would indicate possible economic ties\n",
    "The MSCI world index has predefined weights, however highly correlated economies and currencies should be hedged with respect to the exposure to each other. Are there such cases, what would be an optimal way to treat these economies? \n",
    "\n",
    "\n"
   ]
  },
  {
   "cell_type": "code",
   "execution_count": null,
   "metadata": {},
   "outputs": [],
   "source": []
  }
 ],
 "metadata": {
  "kernelspec": {
   "display_name": "Python 3",
   "language": "python",
   "name": "python3"
  },
  "language_info": {
   "codemirror_mode": {
    "name": "ipython",
    "version": 3
   },
   "file_extension": ".py",
   "mimetype": "text/x-python",
   "name": "python",
   "nbconvert_exporter": "python",
   "pygments_lexer": "ipython3",
   "version": "3.6.5"
  }
 },
 "nbformat": 4,
 "nbformat_minor": 2
}
